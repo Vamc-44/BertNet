{
  "nbformat": 4,
  "nbformat_minor": 0,
  "metadata": {
    "colab": {
      "provenance": [],
      "gpuType": "T4"
    },
    "kernelspec": {
      "name": "python3",
      "display_name": "Python 3"
    },
    "language_info": {
      "name": "python"
    },
    "accelerator": "GPU"
  },
  "cells": [
    {
      "cell_type": "code",
      "execution_count": null,
      "metadata": {
        "colab": {
          "base_uri": "https://localhost:8080/"
        },
        "id": "eZjD527L-bIJ",
        "outputId": "61428724-8832-4d76-9184-0a33dad95b49"
      },
      "outputs": [
        {
          "output_type": "stream",
          "name": "stdout",
          "text": [
            "Drive already mounted at /content/gdrive; to attempt to forcibly remount, call drive.mount(\"/content/gdrive\", force_remount=True).\n"
          ]
        }
      ],
      "source": [
        "from google.colab import drive\n",
        "drive.mount('/content/gdrive')"
      ]
    },
    {
      "cell_type": "code",
      "source": [
        "import pandas as pd\n",
        "df=pd.read_csv(\"/content/gdrive/MyDrive/BertNet/summer-products-with-rating-and-performance_2020-08.csv\")"
      ],
      "metadata": {
        "id": "FMco_ThO-eEP"
      },
      "execution_count": null,
      "outputs": []
    },
    {
      "cell_type": "code",
      "source": [
        "sales = [1 if sales > 100 else 0 for sales in df[\"units_sold\"]]\n",
        "df['high_sale'] = sales"
      ],
      "metadata": {
        "id": "bLW3ASZVB5BL"
      },
      "execution_count": null,
      "outputs": []
    },
    {
      "cell_type": "code",
      "source": [
        "\"\"\"import requests\n",
        "from PIL import Image\n",
        "from io import BytesIO\n",
        "import pandas as pd\n",
        "import numpy as np\n",
        "\n",
        "\n",
        "pd.set_option('display.max_colwidth', None)\n",
        "\n",
        "# Initialize a counter for failed image loads\n",
        "failed_count = 0\n",
        "index_list = []\n",
        "\n",
        "# Function to load image with custom headers and row index\n",
        "def load_image(url, index):\n",
        "    global failed_count, index_list # Use the global count\n",
        "    headers = {'User-Agent': 'Mozilla/5.0'}\n",
        "\n",
        "    try:\n",
        "        response = requests.get(url, headers=headers, timeout=2)  # Set a low timeout limit\n",
        "        response.raise_for_status()  # Raise an error for bad responses\n",
        "        return np.array(Image.open(BytesIO(response.content)).resize((224, 224), Image.LANCZOS))\n",
        "    except requests.exceptions.RequestException as e:\n",
        "        print(f\"Failed to load image from {url} at row {index}. Error: {e}\")\n",
        "        failed_count += 1  # Increment the counter for failed loads\n",
        "        index_list.append(index)\n",
        "        return None\n",
        "\n",
        "# Load images into DataFrame, passing the index to the load_image function\n",
        "df['image_pixel'] = [load_image(url, index) for index, url in enumerate(df['product_picture'])]\n",
        "\n",
        "# Check the DataFrame to see if images are loaded correctly\n",
        "# print(df[['product_picture', 'image_pixel']])\n",
        "\n",
        "# Print the total number of failed image loads\n",
        "print(f\"Total failed image loads: {failed_count}\")\n",
        "print(index_list)\"\"\""
      ],
      "metadata": {
        "colab": {
          "base_uri": "https://localhost:8080/",
          "height": 105
        },
        "id": "YvGWNjPM-fRr",
        "outputId": "0d3cb3bd-27b6-4270-cd74-68ce2c9c8235"
      },
      "execution_count": null,
      "outputs": [
        {
          "output_type": "execute_result",
          "data": {
            "text/plain": [
              "'import requests\\nfrom PIL import Image\\nfrom io import BytesIO\\nimport pandas as pd\\nimport numpy as np\\n\\n\\npd.set_option(\\'display.max_colwidth\\', None)\\n\\n# Initialize a counter for failed image loads\\nfailed_count = 0\\nindex_list = []\\n\\n# Function to load image with custom headers and row index\\ndef load_image(url, index):\\n    global failed_count, index_list # Use the global count\\n    headers = {\\'User-Agent\\': \\'Mozilla/5.0\\'}\\n\\n    try:\\n        response = requests.get(url, headers=headers, timeout=2)  # Set a low timeout limit\\n        response.raise_for_status()  # Raise an error for bad responses\\n        return np.array(Image.open(BytesIO(response.content)).resize((224, 224), Image.LANCZOS))\\n    except requests.exceptions.RequestException as e:\\n        print(f\"Failed to load image from {url} at row {index}. Error: {e}\")\\n        failed_count += 1  # Increment the counter for failed loads\\n        index_list.append(index)\\n        return None\\n\\n# Load images into DataFrame, passing the index to the load_image function\\ndf[\\'image_pixel\\'] = [load_image(url, index) for index, url in enumerate(df[\\'product_picture\\'])]\\n\\n# Check the DataFrame to see if images are loaded correctly\\n# print(df[[\\'product_picture\\', \\'image_pixel\\']])\\n\\n# Print the total number of failed image loads\\nprint(f\"Total failed image loads: {failed_count}\")\\nprint(index_list)'"
            ],
            "application/vnd.google.colaboratory.intrinsic+json": {
              "type": "string"
            }
          },
          "metadata": {},
          "execution_count": 17
        }
      ]
    },
    {
      "cell_type": "code",
      "source": [
        "index_list = [0, 4, 10, 22, 24, 37, 43, 50, 52, 53, 62, 77, 78, 85, 96, 97, 100, 111, 116, 134, 146, 148, 159, 165, 172, 176, 177, 188, 191, 197, 208, 210, 213, 232, 244, 246, 249, 251, 252, 255, 288, 291, 292, 298, 302, 305, 306, 310, 318, 324, 327, 329, 331, 341, 347, 350, 362, 375, 387, 388, 393, 397, 398, 411, 438, 439, 456, 467, 479, 484, 494, 495, 518, 519, 523, 538, 540, 548, 549, 550, 557, 558, 574, 590, 614, 615, 625, 635, 636, 637, 644, 647, 652, 659, 666, 673, 687, 689, 696, 699, 703, 709, 716, 739, 743, 750, 755, 757, 763, 783, 785, 789, 801, 816, 817, 826, 829, 836, 840, 844, 858, 868, 871, 884, 891, 892, 894, 902, 906, 913, 916, 923, 935, 937, 938, 945, 950, 953, 958, 970, 977, 979, 980, 982, 986, 991, 993, 995, 1003, 1008, 1017, 1026, 1044, 1065, 1069, 1073, 1078, 1083, 1086, 1096, 1108, 1115, 1124, 1129, 1130, 1138, 1143, 1152, 1182, 1186, 1209, 1228, 1230, 1248, 1250, 1261, 1271, 1276, 1279, 1283, 1294, 1311, 1312, 1323, 1326, 1328, 1330, 1343, 1352, 1353, 1361, 1362, 1366, 1368, 1371, 1374, 1380, 1384, 1386, 1390, 1395, 1403, 1417, 1419, 1422, 1428, 1429, 1435, 1437, 1441, 1444, 1456, 1460, 1464, 1471, 1472, 1474, 1477, 1480, 1488, 1491, 1494, 1495, 1516, 1523, 1537, 1541, 1542, 1558, 1559, 1560, 1564, 1568, 1569, 1570]"
      ],
      "metadata": {
        "id": "md5RG7YBAbmL"
      },
      "execution_count": null,
      "outputs": []
    },
    {
      "cell_type": "code",
      "source": [
        "df = df.drop(index_list)\n",
        "\n",
        "# Reset the index after dropping rows\n",
        "df = df.reset_index(drop=True)"
      ],
      "metadata": {
        "id": "obAsV8bl-nw9"
      },
      "execution_count": null,
      "outputs": []
    },
    {
      "cell_type": "code",
      "source": [
        "def load_image(url, index):\n",
        "    global failed_count, index_list # Use the global count\n",
        "    headers = {'User-Agent': 'Mozilla/5.0'}\n",
        "\n",
        "    try:\n",
        "        response = requests.get(url, headers=headers, timeout=2)  # Set a low timeout limit\n",
        "        response.raise_for_status()  # Raise an error for bad responses\n",
        "        return np.array(Image.open(BytesIO(response.content)).resize((224, 224), Image.LANCZOS))\n",
        "    except requests.exceptions.RequestException as e:\n",
        "        print(f\"Failed to load image from {url} at row {index}. Error: {e}\")\n",
        "        failed_count += 1  # Increment the counter for failed loads\n",
        "        index_list.append(index)\n",
        "        return None"
      ],
      "metadata": {
        "id": "2Rrs8B2yC_xL"
      },
      "execution_count": null,
      "outputs": []
    },
    {
      "cell_type": "code",
      "source": [
        "df['image_pixel'] = [load_image(url, index) for index, url in enumerate(df['product_picture'])]"
      ],
      "metadata": {
        "id": "TPtt4LWrDCCi"
      },
      "execution_count": null,
      "outputs": []
    },
    {
      "cell_type": "code",
      "source": [
        "df.info()"
      ],
      "metadata": {
        "colab": {
          "base_uri": "https://localhost:8080/"
        },
        "id": "kc8rY2pv-zay",
        "outputId": "eadae937-bdc3-49f3-9cd4-9a7149f7c04a"
      },
      "execution_count": null,
      "outputs": [
        {
          "output_type": "stream",
          "name": "stdout",
          "text": [
            "<class 'pandas.core.frame.DataFrame'>\n",
            "RangeIndex: 1338 entries, 0 to 1337\n",
            "Data columns (total 45 columns):\n",
            " #   Column                        Non-Null Count  Dtype  \n",
            "---  ------                        --------------  -----  \n",
            " 0   title                         1338 non-null   object \n",
            " 1   title_orig                    1338 non-null   object \n",
            " 2   price                         1338 non-null   float64\n",
            " 3   retail_price                  1338 non-null   int64  \n",
            " 4   currency_buyer                1338 non-null   object \n",
            " 5   units_sold                    1338 non-null   int64  \n",
            " 6   uses_ad_boosts                1338 non-null   int64  \n",
            " 7   rating                        1338 non-null   float64\n",
            " 8   rating_count                  1338 non-null   int64  \n",
            " 9   rating_five_count             1297 non-null   float64\n",
            " 10  rating_four_count             1297 non-null   float64\n",
            " 11  rating_three_count            1297 non-null   float64\n",
            " 12  rating_two_count              1297 non-null   float64\n",
            " 13  rating_one_count              1297 non-null   float64\n",
            " 14  badges_count                  1338 non-null   int64  \n",
            " 15  badge_local_product           1338 non-null   int64  \n",
            " 16  badge_product_quality         1338 non-null   int64  \n",
            " 17  badge_fast_shipping           1338 non-null   int64  \n",
            " 18  tags                          1338 non-null   object \n",
            " 19  product_color                 1302 non-null   object \n",
            " 20  product_variation_size_id     1327 non-null   object \n",
            " 21  product_variation_inventory   1338 non-null   int64  \n",
            " 22  shipping_option_name          1338 non-null   object \n",
            " 23  shipping_option_price         1338 non-null   int64  \n",
            " 24  shipping_is_express           1338 non-null   int64  \n",
            " 25  countries_shipped_to          1338 non-null   int64  \n",
            " 26  inventory_total               1338 non-null   int64  \n",
            " 27  has_urgency_banner            404 non-null    float64\n",
            " 28  urgency_text                  404 non-null    object \n",
            " 29  origin_country                1321 non-null   object \n",
            " 30  merchant_title                1338 non-null   object \n",
            " 31  merchant_name                 1334 non-null   object \n",
            " 32  merchant_info_subtitle        1338 non-null   object \n",
            " 33  merchant_rating_count         1338 non-null   int64  \n",
            " 34  merchant_rating               1338 non-null   float64\n",
            " 35  merchant_id                   1338 non-null   object \n",
            " 36  merchant_has_profile_picture  1338 non-null   int64  \n",
            " 37  merchant_profile_picture      209 non-null    object \n",
            " 38  product_url                   1338 non-null   object \n",
            " 39  product_picture               1338 non-null   object \n",
            " 40  product_id                    1338 non-null   object \n",
            " 41  theme                         1338 non-null   object \n",
            " 42  crawl_month                   1338 non-null   object \n",
            " 43  high_sale                     1338 non-null   int64  \n",
            " 44  image_pixel                   1338 non-null   object \n",
            "dtypes: float64(9), int64(16), object(20)\n",
            "memory usage: 470.5+ KB\n"
          ]
        }
      ]
    },
    {
      "cell_type": "code",
      "source": [
        "df.iloc[0,-1].shape"
      ],
      "metadata": {
        "colab": {
          "base_uri": "https://localhost:8080/"
        },
        "id": "G4JAMheG-1Jo",
        "outputId": "030b3134-06dd-4303-e55e-704239dea0a9"
      },
      "execution_count": null,
      "outputs": [
        {
          "output_type": "execute_result",
          "data": {
            "text/plain": [
              "(224, 224, 3)"
            ]
          },
          "metadata": {},
          "execution_count": 29
        }
      ]
    },
    {
      "cell_type": "code",
      "source": [
        "df = df[[\"image_pixel\", \"high_sale\"]]\n",
        "df.to_pickle(\"image_sale_224x224.pkl\")"
      ],
      "metadata": {
        "id": "e9rT84HnA4CU"
      },
      "execution_count": null,
      "outputs": []
    },
    {
      "cell_type": "code",
      "source": [],
      "metadata": {
        "id": "EqsTobWpBdij"
      },
      "execution_count": null,
      "outputs": []
    }
  ]
}